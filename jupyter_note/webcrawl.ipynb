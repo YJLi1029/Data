{
 "metadata": {
  "language_info": {
   "codemirror_mode": {
    "name": "ipython",
    "version": 3
   },
   "file_extension": ".py",
   "mimetype": "text/x-python",
   "name": "python",
   "nbconvert_exporter": "python",
   "pygments_lexer": "ipython3",
   "version": 3
  },
  "orig_nbformat": 2
 },
 "nbformat": 4,
 "nbformat_minor": 2,
 "cells": [
  {
   "cell_type": "code",
   "execution_count": null,
   "metadata": {},
   "outputs": [],
   "source": [
    "html='''\n",
    "<html>\n",
    "    <head>\n",
    "    </head>\n",
    "        <h1>우리동네시장</h1>\n",
    "            <div class='sale'>\n",
    "                <p id='fruits1' class='fruits'>\n",
    "                    <span class='name'> 바나나 </span>\n",
    "                    <span class='price'> 3000원 </span>\n",
    "                    <span class='inventory'> 500개 </span>\n",
    "                    <span class='store'> 가나다상회 </span>\n",
    "                    <a href='http://bit.ly/forPlaywithData'> 홈페이지 </a>\n",
    "                </p>\n",
    "            </div>\n",
    "        <div class='prepare'>\n",
    "            <p id='fruits2' class'fruits'>\n",
    "                <span class='name'> 파인애플 </span>\n",
    "            </p>\n",
    "        </div>\n",
    "    </body>\n",
    "</html>\n",
    "'''"
   ]
  }
 ]
}