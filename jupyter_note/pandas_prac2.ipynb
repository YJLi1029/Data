{
 "metadata": {
  "language_info": {
   "codemirror_mode": {
    "name": "ipython",
    "version": 3
   },
   "file_extension": ".py",
   "mimetype": "text/x-python",
   "name": "python",
   "nbconvert_exporter": "python",
   "pygments_lexer": "ipython3",
   "version": "3.8.3-final"
  },
  "orig_nbformat": 2,
  "kernelspec": {
   "name": "python38364bitdatapyconda5430c2d5197c4a91be1354adf5f69aab",
   "display_name": "Python 3.8.3 64-bit ('data_py': conda)"
  }
 },
 "nbformat": 4,
 "nbformat_minor": 2,
 "cells": [
  {
   "cell_type": "code",
   "execution_count": 2,
   "metadata": {},
   "outputs": [],
   "source": [
    "import pandas as pd\n",
    "\n",
    "sample_1=pd.read_excel('datasalon-master\\\\2_Start_DataAnalysis\\\\files\\\\sample_1.xlsx', #엑셀 파일 불러오기, 경로 지정\n",
    "                            header=1, #칼럼명이 있는 위치. 파이썬에서는 시작 숫자가 0이르모 두 번째 로우는 1로 표현\n",
    "                            skipfooter=2, #마지막 로우에서 두 줄은 생략하고 불러오기\n",
    "                            usecols='A:C') # A칼럼부터 C칼럼까지 불러옴\n",
    "\n"
   ]
  },
  {
   "cell_type": "code",
   "execution_count": 15,
   "metadata": {},
   "outputs": [
    {
     "output_type": "execute_result",
     "data": {
      "text/plain": "  국적코드  성별    입국객수     기준년월\n0  A01  남성  106320  2019-11\n1  A01  여성  191436  2019-11\n2  A31  남성     319  2019-11\n3  A31  여성      42  2019-11\n4  A18  남성  158912  2019-11\n5  A18  여성  232943  2019-11",
      "text/html": "<div>\n<style scoped>\n    .dataframe tbody tr th:only-of-type {\n        vertical-align: middle;\n    }\n\n    .dataframe tbody tr th {\n        vertical-align: top;\n    }\n\n    .dataframe thead th {\n        text-align: right;\n    }\n</style>\n<table border=\"1\" class=\"dataframe\">\n  <thead>\n    <tr style=\"text-align: right;\">\n      <th></th>\n      <th>국적코드</th>\n      <th>성별</th>\n      <th>입국객수</th>\n      <th>기준년월</th>\n    </tr>\n  </thead>\n  <tbody>\n    <tr>\n      <th>0</th>\n      <td>A01</td>\n      <td>남성</td>\n      <td>106320</td>\n      <td>2019-11</td>\n    </tr>\n    <tr>\n      <th>1</th>\n      <td>A01</td>\n      <td>여성</td>\n      <td>191436</td>\n      <td>2019-11</td>\n    </tr>\n    <tr>\n      <th>2</th>\n      <td>A31</td>\n      <td>남성</td>\n      <td>319</td>\n      <td>2019-11</td>\n    </tr>\n    <tr>\n      <th>3</th>\n      <td>A31</td>\n      <td>여성</td>\n      <td>42</td>\n      <td>2019-11</td>\n    </tr>\n    <tr>\n      <th>4</th>\n      <td>A18</td>\n      <td>남성</td>\n      <td>158912</td>\n      <td>2019-11</td>\n    </tr>\n    <tr>\n      <th>5</th>\n      <td>A18</td>\n      <td>여성</td>\n      <td>232943</td>\n      <td>2019-11</td>\n    </tr>\n  </tbody>\n</table>\n</div>"
     },
     "metadata": {},
     "execution_count": 15
    }
   ],
   "source": [
    "#데이터 통합 - 옆으로, 아래로\n",
    "sample_1['기준년월']='2019-11'\n",
    "sample_1\n"
   ]
  },
  {
   "cell_type": "code",
   "execution_count": 16,
   "metadata": {},
   "outputs": [
    {
     "output_type": "execute_result",
     "data": {
      "text/plain": "  국적코드     국적명\n0  A01      일본\n1  A02      대만\n2  A03      홍콩\n3  A18      중국\n4  A19      이란\n5  A22  우즈베키스탄\n6  A23   카자흐스탄\n7  A99  아시아 기타",
      "text/html": "<div>\n<style scoped>\n    .dataframe tbody tr th:only-of-type {\n        vertical-align: middle;\n    }\n\n    .dataframe tbody tr th {\n        vertical-align: top;\n    }\n\n    .dataframe thead th {\n        text-align: right;\n    }\n</style>\n<table border=\"1\" class=\"dataframe\">\n  <thead>\n    <tr style=\"text-align: right;\">\n      <th></th>\n      <th>국적코드</th>\n      <th>국적명</th>\n    </tr>\n  </thead>\n  <tbody>\n    <tr>\n      <th>0</th>\n      <td>A01</td>\n      <td>일본</td>\n    </tr>\n    <tr>\n      <th>1</th>\n      <td>A02</td>\n      <td>대만</td>\n    </tr>\n    <tr>\n      <th>2</th>\n      <td>A03</td>\n      <td>홍콩</td>\n    </tr>\n    <tr>\n      <th>3</th>\n      <td>A18</td>\n      <td>중국</td>\n    </tr>\n    <tr>\n      <th>4</th>\n      <td>A19</td>\n      <td>이란</td>\n    </tr>\n    <tr>\n      <th>5</th>\n      <td>A22</td>\n      <td>우즈베키스탄</td>\n    </tr>\n    <tr>\n      <th>6</th>\n      <td>A23</td>\n      <td>카자흐스탄</td>\n    </tr>\n    <tr>\n      <th>7</th>\n      <td>A99</td>\n      <td>아시아 기타</td>\n    </tr>\n  </tbody>\n</table>\n</div>"
     },
     "metadata": {},
     "execution_count": 16
    }
   ],
   "source": [
    "code_master=pd.read_excel('datasalon-master\\\\2_Start_DataAnalysis\\\\files\\\\sample_codemaster.xlsx')\n",
    "code_master"
   ]
  },
  {
   "cell_type": "code",
   "execution_count": 28,
   "metadata": {},
   "outputs": [
    {
     "output_type": "execute_result",
     "data": {
      "text/plain": "  국적코드  성별    입국객수     기준년월  국적명\n0  A01  남성  106320  2019-11   일본\n1  A01  여성  191436  2019-11   일본\n2  A31  남성     319  2019-11  NaN\n3  A31  여성      42  2019-11  NaN\n4  A18  남성  158912  2019-11   중국\n5  A18  여성  232943  2019-11   중국",
      "text/html": "<div>\n<style scoped>\n    .dataframe tbody tr th:only-of-type {\n        vertical-align: middle;\n    }\n\n    .dataframe tbody tr th {\n        vertical-align: top;\n    }\n\n    .dataframe thead th {\n        text-align: right;\n    }\n</style>\n<table border=\"1\" class=\"dataframe\">\n  <thead>\n    <tr style=\"text-align: right;\">\n      <th></th>\n      <th>국적코드</th>\n      <th>성별</th>\n      <th>입국객수</th>\n      <th>기준년월</th>\n      <th>국적명</th>\n    </tr>\n  </thead>\n  <tbody>\n    <tr>\n      <th>0</th>\n      <td>A01</td>\n      <td>남성</td>\n      <td>106320</td>\n      <td>2019-11</td>\n      <td>일본</td>\n    </tr>\n    <tr>\n      <th>1</th>\n      <td>A01</td>\n      <td>여성</td>\n      <td>191436</td>\n      <td>2019-11</td>\n      <td>일본</td>\n    </tr>\n    <tr>\n      <th>2</th>\n      <td>A31</td>\n      <td>남성</td>\n      <td>319</td>\n      <td>2019-11</td>\n      <td>NaN</td>\n    </tr>\n    <tr>\n      <th>3</th>\n      <td>A31</td>\n      <td>여성</td>\n      <td>42</td>\n      <td>2019-11</td>\n      <td>NaN</td>\n    </tr>\n    <tr>\n      <th>4</th>\n      <td>A18</td>\n      <td>남성</td>\n      <td>158912</td>\n      <td>2019-11</td>\n      <td>중국</td>\n    </tr>\n    <tr>\n      <th>5</th>\n      <td>A18</td>\n      <td>여성</td>\n      <td>232943</td>\n      <td>2019-11</td>\n      <td>중국</td>\n    </tr>\n  </tbody>\n</table>\n</div>"
     },
     "metadata": {},
     "execution_count": 28
    }
   ],
   "source": [
    "sample_1_code=pd.merge(left=sample_1, #merge는 자료를 가로로 합친다.\n",
    "                        right=code_master, # 오른쪽은 code_master\n",
    "                        how='left', # 왼쪽 테이블을 기준으로 두 테이블을 결합\n",
    "                        left_on='국적코드', # 왼쪽 테이블의 기준 칼럼은 국적코드\n",
    "                        right_on='국적코드') # 오른쪽 테이블의 기준 칼럼은 국적코드\n",
    "sample_1_code # 국적코드가 A31인 경우 국적명이 NaN으로 나온다. code_master에는 해당하는 자료가 없기 때문."
   ]
  },
  {
   "cell_type": "code",
   "execution_count": 27,
   "metadata": {},
   "outputs": [
    {
     "output_type": "execute_result",
     "data": {
      "text/plain": "  국적코드  성별    입국객수     기준년월 국적명\n0  A01  남성  106320  2019-11  일본\n1  A01  여성  191436  2019-11  일본\n2  A18  남성  158912  2019-11  중국\n3  A18  여성  232943  2019-11  중국",
      "text/html": "<div>\n<style scoped>\n    .dataframe tbody tr th:only-of-type {\n        vertical-align: middle;\n    }\n\n    .dataframe tbody tr th {\n        vertical-align: top;\n    }\n\n    .dataframe thead th {\n        text-align: right;\n    }\n</style>\n<table border=\"1\" class=\"dataframe\">\n  <thead>\n    <tr style=\"text-align: right;\">\n      <th></th>\n      <th>국적코드</th>\n      <th>성별</th>\n      <th>입국객수</th>\n      <th>기준년월</th>\n      <th>국적명</th>\n    </tr>\n  </thead>\n  <tbody>\n    <tr>\n      <th>0</th>\n      <td>A01</td>\n      <td>남성</td>\n      <td>106320</td>\n      <td>2019-11</td>\n      <td>일본</td>\n    </tr>\n    <tr>\n      <th>1</th>\n      <td>A01</td>\n      <td>여성</td>\n      <td>191436</td>\n      <td>2019-11</td>\n      <td>일본</td>\n    </tr>\n    <tr>\n      <th>2</th>\n      <td>A18</td>\n      <td>남성</td>\n      <td>158912</td>\n      <td>2019-11</td>\n      <td>중국</td>\n    </tr>\n    <tr>\n      <th>3</th>\n      <td>A18</td>\n      <td>여성</td>\n      <td>232943</td>\n      <td>2019-11</td>\n      <td>중국</td>\n    </tr>\n  </tbody>\n</table>\n</div>"
     },
     "metadata": {},
     "execution_count": 27
    }
   ],
   "source": [
    "sample_1_code=pd.merge(left=sample_1,\n",
    "                        right=code_master,\n",
    "                        how='inner', # 두 테이블의 기준 칼럼이 일치하는 경우에만 데이터 통합\n",
    "                        left_on='국적코드', \n",
    "                        right_on='국적코드') \n",
    "sample_1_code "
   ]
  },
  {
   "cell_type": "code",
   "execution_count": 24,
   "metadata": {},
   "outputs": [
    {
     "output_type": "execute_result",
     "data": {
      "text/plain": "  국적코드  성별    입국객수     기준년월 국적명\n0  A01  남성   92556  2019-12  일본\n1  A01  여성  163737  2019-12  일본\n2  A18  남성  155540  2019-12  중국\n3  A18  여성  249023  2019-12  중국",
      "text/html": "<div>\n<style scoped>\n    .dataframe tbody tr th:only-of-type {\n        vertical-align: middle;\n    }\n\n    .dataframe tbody tr th {\n        vertical-align: top;\n    }\n\n    .dataframe thead th {\n        text-align: right;\n    }\n</style>\n<table border=\"1\" class=\"dataframe\">\n  <thead>\n    <tr style=\"text-align: right;\">\n      <th></th>\n      <th>국적코드</th>\n      <th>성별</th>\n      <th>입국객수</th>\n      <th>기준년월</th>\n      <th>국적명</th>\n    </tr>\n  </thead>\n  <tbody>\n    <tr>\n      <th>0</th>\n      <td>A01</td>\n      <td>남성</td>\n      <td>92556</td>\n      <td>2019-12</td>\n      <td>일본</td>\n    </tr>\n    <tr>\n      <th>1</th>\n      <td>A01</td>\n      <td>여성</td>\n      <td>163737</td>\n      <td>2019-12</td>\n      <td>일본</td>\n    </tr>\n    <tr>\n      <th>2</th>\n      <td>A18</td>\n      <td>남성</td>\n      <td>155540</td>\n      <td>2019-12</td>\n      <td>중국</td>\n    </tr>\n    <tr>\n      <th>3</th>\n      <td>A18</td>\n      <td>여성</td>\n      <td>249023</td>\n      <td>2019-12</td>\n      <td>중국</td>\n    </tr>\n  </tbody>\n</table>\n</div>"
     },
     "metadata": {},
     "execution_count": 24
    }
   ],
   "source": [
    "#데이터 아래로 통합(ex.월별로 관리)\n",
    "sample_2=pd.read_excel('datasalon-master\\\\2_Start_DataAnalysis\\\\files\\\\sample_2.xlsx', \n",
    "                        header=1, \n",
    "                        skipfooter=2, \n",
    "                        usecols='A:C')\n",
    "sample_2['기준년월']='2019-12'\n",
    "sample_2_code=pd.merge(left=sample_2, \n",
    "                        right=code_master, \n",
    "                        how='left', \n",
    "                        left_on='국적코드',\n",
    "                        right_on='국적코드')\n",
    "sample_2_code"
   ]
  },
  {
   "cell_type": "code",
   "execution_count": 25,
   "metadata": {},
   "outputs": [
    {
     "output_type": "execute_result",
     "data": {
      "text/plain": "  국적코드  성별    입국객수     기준년월 국적명\n0  A01  남성  106320  2019-11  일본\n1  A01  여성  191436  2019-11  일본\n2  A18  남성  158912  2019-11  중국\n3  A18  여성  232943  2019-11  중국\n0  A01  남성   92556  2019-12  일본\n1  A01  여성  163737  2019-12  일본\n2  A18  남성  155540  2019-12  중국\n3  A18  여성  249023  2019-12  중국",
      "text/html": "<div>\n<style scoped>\n    .dataframe tbody tr th:only-of-type {\n        vertical-align: middle;\n    }\n\n    .dataframe tbody tr th {\n        vertical-align: top;\n    }\n\n    .dataframe thead th {\n        text-align: right;\n    }\n</style>\n<table border=\"1\" class=\"dataframe\">\n  <thead>\n    <tr style=\"text-align: right;\">\n      <th></th>\n      <th>국적코드</th>\n      <th>성별</th>\n      <th>입국객수</th>\n      <th>기준년월</th>\n      <th>국적명</th>\n    </tr>\n  </thead>\n  <tbody>\n    <tr>\n      <th>0</th>\n      <td>A01</td>\n      <td>남성</td>\n      <td>106320</td>\n      <td>2019-11</td>\n      <td>일본</td>\n    </tr>\n    <tr>\n      <th>1</th>\n      <td>A01</td>\n      <td>여성</td>\n      <td>191436</td>\n      <td>2019-11</td>\n      <td>일본</td>\n    </tr>\n    <tr>\n      <th>2</th>\n      <td>A18</td>\n      <td>남성</td>\n      <td>158912</td>\n      <td>2019-11</td>\n      <td>중국</td>\n    </tr>\n    <tr>\n      <th>3</th>\n      <td>A18</td>\n      <td>여성</td>\n      <td>232943</td>\n      <td>2019-11</td>\n      <td>중국</td>\n    </tr>\n    <tr>\n      <th>0</th>\n      <td>A01</td>\n      <td>남성</td>\n      <td>92556</td>\n      <td>2019-12</td>\n      <td>일본</td>\n    </tr>\n    <tr>\n      <th>1</th>\n      <td>A01</td>\n      <td>여성</td>\n      <td>163737</td>\n      <td>2019-12</td>\n      <td>일본</td>\n    </tr>\n    <tr>\n      <th>2</th>\n      <td>A18</td>\n      <td>남성</td>\n      <td>155540</td>\n      <td>2019-12</td>\n      <td>중국</td>\n    </tr>\n    <tr>\n      <th>3</th>\n      <td>A18</td>\n      <td>여성</td>\n      <td>249023</td>\n      <td>2019-12</td>\n      <td>중국</td>\n    </tr>\n  </tbody>\n</table>\n</div>"
     },
     "metadata": {},
     "execution_count": 25
    }
   ],
   "source": [
    "#ignore_index=True 를 입력하지 않으면 원래 데이터에서의 인덱스 값으로 합쳐짐\n",
    "sample=sample_1_code.append(sample_2_code) # append()로 아래로 통합. \n",
    "sample"
   ]
  },
  {
   "cell_type": "code",
   "execution_count": 26,
   "metadata": {},
   "outputs": [
    {
     "output_type": "execute_result",
     "data": {
      "text/plain": "  국적코드  성별    입국객수     기준년월 국적명\n0  A01  남성  106320  2019-11  일본\n1  A01  여성  191436  2019-11  일본\n2  A18  남성  158912  2019-11  중국\n3  A18  여성  232943  2019-11  중국\n4  A01  남성   92556  2019-12  일본\n5  A01  여성  163737  2019-12  일본\n6  A18  남성  155540  2019-12  중국\n7  A18  여성  249023  2019-12  중국",
      "text/html": "<div>\n<style scoped>\n    .dataframe tbody tr th:only-of-type {\n        vertical-align: middle;\n    }\n\n    .dataframe tbody tr th {\n        vertical-align: top;\n    }\n\n    .dataframe thead th {\n        text-align: right;\n    }\n</style>\n<table border=\"1\" class=\"dataframe\">\n  <thead>\n    <tr style=\"text-align: right;\">\n      <th></th>\n      <th>국적코드</th>\n      <th>성별</th>\n      <th>입국객수</th>\n      <th>기준년월</th>\n      <th>국적명</th>\n    </tr>\n  </thead>\n  <tbody>\n    <tr>\n      <th>0</th>\n      <td>A01</td>\n      <td>남성</td>\n      <td>106320</td>\n      <td>2019-11</td>\n      <td>일본</td>\n    </tr>\n    <tr>\n      <th>1</th>\n      <td>A01</td>\n      <td>여성</td>\n      <td>191436</td>\n      <td>2019-11</td>\n      <td>일본</td>\n    </tr>\n    <tr>\n      <th>2</th>\n      <td>A18</td>\n      <td>남성</td>\n      <td>158912</td>\n      <td>2019-11</td>\n      <td>중국</td>\n    </tr>\n    <tr>\n      <th>3</th>\n      <td>A18</td>\n      <td>여성</td>\n      <td>232943</td>\n      <td>2019-11</td>\n      <td>중국</td>\n    </tr>\n    <tr>\n      <th>4</th>\n      <td>A01</td>\n      <td>남성</td>\n      <td>92556</td>\n      <td>2019-12</td>\n      <td>일본</td>\n    </tr>\n    <tr>\n      <th>5</th>\n      <td>A01</td>\n      <td>여성</td>\n      <td>163737</td>\n      <td>2019-12</td>\n      <td>일본</td>\n    </tr>\n    <tr>\n      <th>6</th>\n      <td>A18</td>\n      <td>남성</td>\n      <td>155540</td>\n      <td>2019-12</td>\n      <td>중국</td>\n    </tr>\n    <tr>\n      <th>7</th>\n      <td>A18</td>\n      <td>여성</td>\n      <td>249023</td>\n      <td>2019-12</td>\n      <td>중국</td>\n    </tr>\n  </tbody>\n</table>\n</div>"
     },
     "metadata": {},
     "execution_count": 26
    }
   ],
   "source": [
    "# sample_1_code와 sample_2_code의 칼럼 순서가 동일하다면 두 데이터를 아래로 통합할 수 있다!!!\n",
    "sample=sample_1_code.append(sample_2_code, ignore_index=True) # append()로 아래로 통합. \n",
    "sample"
   ]
  },
  {
   "cell_type": "code",
   "execution_count": 29,
   "metadata": {},
   "outputs": [
    {
     "output_type": "execute_result",
     "data": {
      "text/plain": "  국적코드  성별    입국객수     기준년월 국적명\n0  A01  남성  106320  2019-11  일본\n1  A01  여성  191436  2019-11  일본\n2  A18  남성  158912  2019-11  중국\n3  A18  여성  232943  2019-11  중국\n4  A01  남성   92556  2019-12  일본\n5  A01  여성  163737  2019-12  일본\n6  A18  남성  155540  2019-12  중국\n7  A18  여성  249023  2019-12  중국",
      "text/html": "<div>\n<style scoped>\n    .dataframe tbody tr th:only-of-type {\n        vertical-align: middle;\n    }\n\n    .dataframe tbody tr th {\n        vertical-align: top;\n    }\n\n    .dataframe thead th {\n        text-align: right;\n    }\n</style>\n<table border=\"1\" class=\"dataframe\">\n  <thead>\n    <tr style=\"text-align: right;\">\n      <th></th>\n      <th>국적코드</th>\n      <th>성별</th>\n      <th>입국객수</th>\n      <th>기준년월</th>\n      <th>국적명</th>\n    </tr>\n  </thead>\n  <tbody>\n    <tr>\n      <th>0</th>\n      <td>A01</td>\n      <td>남성</td>\n      <td>106320</td>\n      <td>2019-11</td>\n      <td>일본</td>\n    </tr>\n    <tr>\n      <th>1</th>\n      <td>A01</td>\n      <td>여성</td>\n      <td>191436</td>\n      <td>2019-11</td>\n      <td>일본</td>\n    </tr>\n    <tr>\n      <th>2</th>\n      <td>A18</td>\n      <td>남성</td>\n      <td>158912</td>\n      <td>2019-11</td>\n      <td>중국</td>\n    </tr>\n    <tr>\n      <th>3</th>\n      <td>A18</td>\n      <td>여성</td>\n      <td>232943</td>\n      <td>2019-11</td>\n      <td>중국</td>\n    </tr>\n    <tr>\n      <th>4</th>\n      <td>A01</td>\n      <td>남성</td>\n      <td>92556</td>\n      <td>2019-12</td>\n      <td>일본</td>\n    </tr>\n    <tr>\n      <th>5</th>\n      <td>A01</td>\n      <td>여성</td>\n      <td>163737</td>\n      <td>2019-12</td>\n      <td>일본</td>\n    </tr>\n    <tr>\n      <th>6</th>\n      <td>A18</td>\n      <td>남성</td>\n      <td>155540</td>\n      <td>2019-12</td>\n      <td>중국</td>\n    </tr>\n    <tr>\n      <th>7</th>\n      <td>A18</td>\n      <td>여성</td>\n      <td>249023</td>\n      <td>2019-12</td>\n      <td>중국</td>\n    </tr>\n  </tbody>\n</table>\n</div>"
     },
     "metadata": {},
     "execution_count": 29
    }
   ],
   "source": [
    "# 데이터 저장\n",
    "sample"
   ]
  },
  {
   "cell_type": "code",
   "execution_count": null,
   "metadata": {},
   "outputs": [],
   "source": []
  }
 ]
}