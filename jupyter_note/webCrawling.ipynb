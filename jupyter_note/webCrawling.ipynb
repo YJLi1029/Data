{
 "metadata": {
  "language_info": {
   "codemirror_mode": {
    "name": "ipython",
    "version": 3
   },
   "file_extension": ".py",
   "mimetype": "text/x-python",
   "name": "python",
   "nbconvert_exporter": "python",
   "pygments_lexer": "ipython3",
   "version": "3.8.3-final"
  },
  "orig_nbformat": 2,
  "kernelspec": {
   "name": "python38364bitdatapyconda5430c2d5197c4a91be1354adf5f69aab",
   "display_name": "Python 3.8.3 64-bit ('data_py': conda)"
  }
 },
 "nbformat": 4,
 "nbformat_minor": 2,
 "cells": [
  {
   "cell_type": "code",
   "execution_count": 14,
   "metadata": {
    "tags": []
   },
   "outputs": [],
   "source": [
    "#웹 크롤링 \n",
    "#selenium, BeautifulSoup 사용할것\n",
    "from selenium import webdriver #기존에 크롬이 설치되어 있더라도 조작할 크롬드라이버는 따로 다운받아야 함!\n",
    "driver=webdriver.Chrome('E:\\\\git\\\\Data\\\\chromedriver.exe') # 이 크롬 브라우저는 driver로 저장. 여기에 명령을 내려 크롬 브라우저를 조작할 수 있음\n",
    "\n",
    "\n",
    "#웹페이지 접속\n",
    "url='https://github.com/YJLi1029?tab=repositories'\n",
    "driver.get(url)\n",
    "\n",
    "#웹페이지(HTML) 다운로드\n",
    "html=driver.page_source #웹페이지의 HTML 정보 가져오기\n",
    "\n",
    "\n",
    "\n",
    "\n",
    "\n"
   ]
  },
  {
   "cell_type": "code",
   "execution_count": 35,
   "metadata": {},
   "outputs": [
    {
     "output_type": "error",
     "ename": "FeatureNotFound",
     "evalue": "Couldn't find a tree builder with the features you requested: html.parsel. Do you need to install a parser library?",
     "traceback": [
      "\u001b[1;31m---------------------------------------------------------------------------\u001b[0m",
      "\u001b[1;31mFeatureNotFound\u001b[0m                           Traceback (most recent call last)",
      "\u001b[1;32m<ipython-input-35-9762eb2a99c4>\u001b[0m in \u001b[0;36m<module>\u001b[1;34m\u001b[0m\n\u001b[0;32m     25\u001b[0m \u001b[1;33m\u001b[0m\u001b[0m\n\u001b[0;32m     26\u001b[0m \u001b[1;32mfrom\u001b[0m \u001b[0mbs4\u001b[0m \u001b[1;32mimport\u001b[0m \u001b[0mBeautifulSoup\u001b[0m\u001b[1;33m\u001b[0m\u001b[1;33m\u001b[0m\u001b[0m\n\u001b[1;32m---> 27\u001b[1;33m \u001b[0msoup\u001b[0m\u001b[1;33m=\u001b[0m\u001b[0mBeautifulSoup\u001b[0m\u001b[1;33m(\u001b[0m\u001b[0mhtml\u001b[0m\u001b[1;33m,\u001b[0m \u001b[1;34m'html.parsel'\u001b[0m\u001b[1;33m)\u001b[0m\u001b[1;33m\u001b[0m\u001b[1;33m\u001b[0m\u001b[0m\n\u001b[0m\u001b[0;32m     28\u001b[0m \u001b[1;33m\u001b[0m\u001b[0m\n\u001b[0;32m     29\u001b[0m \u001b[0mtags_span\u001b[0m\u001b[1;33m=\u001b[0m\u001b[0msoup\u001b[0m\u001b[1;33m.\u001b[0m\u001b[0mselect\u001b[0m\u001b[1;33m(\u001b[0m\u001b[1;34m'span'\u001b[0m\u001b[1;33m)\u001b[0m \u001b[1;31m#soup에 담긴 HTML 페이지에서 태그명이 'span'인 태그를 모두 찾아 tags_span변수에 저장\u001b[0m\u001b[1;33m\u001b[0m\u001b[1;33m\u001b[0m\u001b[0m\n",
      "\u001b[1;32m~\\anaconda3\\envs\\data_py\\lib\\site-packages\\bs4\\__init__.py\u001b[0m in \u001b[0;36m__init__\u001b[1;34m(self, markup, features, builder, parse_only, from_encoding, exclude_encodings, element_classes, **kwargs)\u001b[0m\n\u001b[0;32m    240\u001b[0m             \u001b[0mbuilder_class\u001b[0m \u001b[1;33m=\u001b[0m \u001b[0mbuilder_registry\u001b[0m\u001b[1;33m.\u001b[0m\u001b[0mlookup\u001b[0m\u001b[1;33m(\u001b[0m\u001b[1;33m*\u001b[0m\u001b[0mfeatures\u001b[0m\u001b[1;33m)\u001b[0m\u001b[1;33m\u001b[0m\u001b[1;33m\u001b[0m\u001b[0m\n\u001b[0;32m    241\u001b[0m             \u001b[1;32mif\u001b[0m \u001b[0mbuilder_class\u001b[0m \u001b[1;32mis\u001b[0m \u001b[1;32mNone\u001b[0m\u001b[1;33m:\u001b[0m\u001b[1;33m\u001b[0m\u001b[1;33m\u001b[0m\u001b[0m\n\u001b[1;32m--> 242\u001b[1;33m                 raise FeatureNotFound(\n\u001b[0m\u001b[0;32m    243\u001b[0m                     \u001b[1;34m\"Couldn't find a tree builder with the features you \"\u001b[0m\u001b[1;33m\u001b[0m\u001b[1;33m\u001b[0m\u001b[0m\n\u001b[0;32m    244\u001b[0m                     \u001b[1;34m\"requested: %s. Do you need to install a parser library?\"\u001b[0m\u001b[1;33m\u001b[0m\u001b[1;33m\u001b[0m\u001b[0m\n",
      "\u001b[1;31mFeatureNotFound\u001b[0m: Couldn't find a tree builder with the features you requested: html.parsel. Do you need to install a parser library?"
     ]
    }
   ],
   "source": [
    "#BeautifulSoup로 정보 찾기\n",
    "\n",
    "html='''\n",
    "<html>\n",
    "    <head>\n",
    "    </head>\n",
    "        <h1>우리동네시장</h1>\n",
    "            <div class='sale'>\n",
    "                <p id='fruits1' class='fruits'>\n",
    "                    <span class='name'> 바나나 </span>\n",
    "                    <span class='price'> 3000원 </span>\n",
    "                    <span class='inventory'> 500개 </span>\n",
    "                    <span class='store'> 가나다상회 </span>\n",
    "                    <a href='https://github.com/YJLi1029?tab=repositories'> 홈페이지 </a>\n",
    "                </p>\n",
    "            </div>\n",
    "        <div class='prepare'>\n",
    "            <p id='fruits2' class'fruits'>\n",
    "                <span class='name'> 파인애플 </span>\n",
    "            </p>\n",
    "        </div>\n",
    "    </body>\n",
    "</html>\n",
    "'''\n",
    "\n",
    "from bs4 import BeautifulSoup\n",
    "soup=BeautifulSoup(html, 'html.parsel')\n",
    "\n",
    "tags_span=soup.select('span') #soup에 담긴 HTML 페이지에서 태그명이 'span'인 태그를 모두 찾아 tags_span변수에 저장\n",
    "tags_p=soup.select('p') #'p'인 태그를 모두 찾아 tags_p 변수에 저장\n"
   ]
  },
  {
   "cell_type": "code",
   "execution_count": 36,
   "metadata": {
    "tags": []
   },
   "outputs": [
    {
     "output_type": "stream",
     "name": "stdout",
     "text": "Requirement already satisfied: lxml in c:\\users\\thdkr\\anaconda3\\envs\\data_py\\lib\\site-packages (4.5.2)\n"
    }
   ],
   "source": [
    "!pip install lxml"
   ]
  },
  {
   "cell_type": "code",
   "execution_count": null,
   "metadata": {},
   "outputs": [],
   "source": []
  }
 ]
}