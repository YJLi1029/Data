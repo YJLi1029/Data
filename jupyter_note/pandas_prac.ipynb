{
 "metadata": {
  "language_info": {
   "codemirror_mode": {
    "name": "ipython",
    "version": 3
   },
   "file_extension": ".py",
   "mimetype": "text/x-python",
   "name": "python",
   "nbconvert_exporter": "python",
   "pygments_lexer": "ipython3",
   "version": "3.8.3-final"
  },
  "orig_nbformat": 2,
  "kernelspec": {
   "name": "python38364bitdatapyconda5430c2d5197c4a91be1354adf5f69aab",
   "display_name": "Python 3.8.3 64-bit ('data_py': conda)"
  }
 },
 "nbformat": 4,
 "nbformat_minor": 2,
 "cells": [
  {
   "cell_type": "code",
   "execution_count": 32,
   "metadata": {},
   "outputs": [
    {
     "output_type": "execute_result",
     "data": {
      "text/plain": "  국적코드  성별    입국객수\n0  A01  남성  106320\n1  A01  여성  191436\n2  A31  남성     319\n3  A31  여성      42\n4  A18  남성  158912",
      "text/html": "<div>\n<style scoped>\n    .dataframe tbody tr th:only-of-type {\n        vertical-align: middle;\n    }\n\n    .dataframe tbody tr th {\n        vertical-align: top;\n    }\n\n    .dataframe thead th {\n        text-align: right;\n    }\n</style>\n<table border=\"1\" class=\"dataframe\">\n  <thead>\n    <tr style=\"text-align: right;\">\n      <th></th>\n      <th>국적코드</th>\n      <th>성별</th>\n      <th>입국객수</th>\n    </tr>\n  </thead>\n  <tbody>\n    <tr>\n      <th>0</th>\n      <td>A01</td>\n      <td>남성</td>\n      <td>106320</td>\n    </tr>\n    <tr>\n      <th>1</th>\n      <td>A01</td>\n      <td>여성</td>\n      <td>191436</td>\n    </tr>\n    <tr>\n      <th>2</th>\n      <td>A31</td>\n      <td>남성</td>\n      <td>319</td>\n    </tr>\n    <tr>\n      <th>3</th>\n      <td>A31</td>\n      <td>여성</td>\n      <td>42</td>\n    </tr>\n    <tr>\n      <th>4</th>\n      <td>A18</td>\n      <td>남성</td>\n      <td>158912</td>\n    </tr>\n  </tbody>\n</table>\n</div>"
     },
     "metadata": {},
     "execution_count": 32
    }
   ],
   "source": [
    "import pandas as pd #pandas를 불러옴\n",
    "\n",
    "sample_1=pd.read_excel('datasalon-master\\\\2_Start_DataAnalysis\\\\files\\\\sample_1.xlsx', #엑셀 파일 불러오기, 경로 지정\n",
    "                            header=1, #칼럼명이 있는 위치. 파이썬에서는 시작 숫자가 0이르모 두 번째 로우는 1로 표현\n",
    "                            skipfooter=2, #마지막 로우에서 두 줄은 생략하고 불러오기\n",
    "                            usecols='A:C') # A칼럼부터 C칼럼까지 불러옴\n",
    "\n",
    "sample_1.head(5) #처음부터 5번째 로우까지 보여주는 함수. 불러온 데이터의 로우가 많을 경우 파이썬에서 원하는 형태대로 잘 불러왔는지 확인하기 위함.\n",
    "\n"
   ]
  },
  {
   "cell_type": "code",
   "execution_count": 31,
   "metadata": {},
   "outputs": [
    {
     "output_type": "execute_result",
     "data": {
      "text/plain": "  국적코드  성별    입국객수\n3  A31  여성      42\n4  A18  남성  158912\n5  A18  여성  232943",
      "text/html": "<div>\n<style scoped>\n    .dataframe tbody tr th:only-of-type {\n        vertical-align: middle;\n    }\n\n    .dataframe tbody tr th {\n        vertical-align: top;\n    }\n\n    .dataframe thead th {\n        text-align: right;\n    }\n</style>\n<table border=\"1\" class=\"dataframe\">\n  <thead>\n    <tr style=\"text-align: right;\">\n      <th></th>\n      <th>국적코드</th>\n      <th>성별</th>\n      <th>입국객수</th>\n    </tr>\n  </thead>\n  <tbody>\n    <tr>\n      <th>3</th>\n      <td>A31</td>\n      <td>여성</td>\n      <td>42</td>\n    </tr>\n    <tr>\n      <th>4</th>\n      <td>A18</td>\n      <td>남성</td>\n      <td>158912</td>\n    </tr>\n    <tr>\n      <th>5</th>\n      <td>A18</td>\n      <td>여성</td>\n      <td>232943</td>\n    </tr>\n  </tbody>\n</table>\n</div>"
     },
     "metadata": {},
     "execution_count": 31
    }
   ],
   "source": [
    "sample_1.tail(3) #마지막 3개 로우를 보여주는 함수."
   ]
  },
  {
   "cell_type": "code",
   "execution_count": 49,
   "metadata": {
    "tags": []
   },
   "outputs": [
    {
     "output_type": "stream",
     "name": "stdout",
     "text": "<class 'pandas.core.frame.DataFrame'>\nRangeIndex: 6 entries, 0 to 5\nData columns (total 4 columns):\n #   Column  Non-Null Count  Dtype \n---  ------  --------------  ----- \n 0   국적코드    6 non-null      object\n 1   성별      6 non-null      object\n 2   입국객수    6 non-null      int64 \n 3   기준년월    6 non-null      object\ndtypes: int64(1), object(3)\nmemory usage: 320.0+ bytes\n"
    }
   ],
   "source": [
    "sample_1.info() #데이터 요약 정보 나타내기\n",
    "\n",
    "# 이 데이터는 pandas의 데이터프레임 클래스다.\n",
    "# 0~5까지 총 6로우로 되어있다.\n",
    "# 총 3개의 칼럼을 가지고 있다.\n",
    "# 국적코드 칼럼은 빈 칸이 없이(non-null) 6개의 로우로 되어있고, 문자 속성(object) 변수다.\n",
    "# 입국객수 칼럼은 빈 칸이 없이 6개의 로우로 구성된 정수형 속셩(int64) 변수다.\n",
    "# 이 데이터는 정수형 변수 1개, 문자형 변수 2개로 구성돼 있다.\n",
    "# 이 데이터는 224바이트를 차지한다.\n"
   ]
  },
  {
   "cell_type": "code",
   "execution_count": 41,
   "metadata": {},
   "outputs": [
    {
     "output_type": "execute_result",
     "data": {
      "text/plain": "                입국객수\ncount       6.000000\nmean   114995.333333\nstd     98105.752006\nmin        42.000000\n25%     26819.250000\n50%    132616.000000\n75%    183305.000000\nmax    232943.000000",
      "text/html": "<div>\n<style scoped>\n    .dataframe tbody tr th:only-of-type {\n        vertical-align: middle;\n    }\n\n    .dataframe tbody tr th {\n        vertical-align: top;\n    }\n\n    .dataframe thead th {\n        text-align: right;\n    }\n</style>\n<table border=\"1\" class=\"dataframe\">\n  <thead>\n    <tr style=\"text-align: right;\">\n      <th></th>\n      <th>입국객수</th>\n    </tr>\n  </thead>\n  <tbody>\n    <tr>\n      <th>count</th>\n      <td>6.000000</td>\n    </tr>\n    <tr>\n      <th>mean</th>\n      <td>114995.333333</td>\n    </tr>\n    <tr>\n      <th>std</th>\n      <td>98105.752006</td>\n    </tr>\n    <tr>\n      <th>min</th>\n      <td>42.000000</td>\n    </tr>\n    <tr>\n      <th>25%</th>\n      <td>26819.250000</td>\n    </tr>\n    <tr>\n      <th>50%</th>\n      <td>132616.000000</td>\n    </tr>\n    <tr>\n      <th>75%</th>\n      <td>183305.000000</td>\n    </tr>\n    <tr>\n      <th>max</th>\n      <td>232943.000000</td>\n    </tr>\n  </tbody>\n</table>\n</div>"
     },
     "metadata": {},
     "execution_count": 41
    }
   ],
   "source": [
    "sample_1.describe() #숫자형 변수에 대한 여러가지 통계량을 출력하는 함수. 우리의 자료에는 숫자형 변수가 입국객수 뿐이다. \n",
    "#데이터 개수, 평균값, 표준편차, 최솟값, 1사분위수, 2사분위수(중위수), 3사분위수, 최댓값 순으로 나타난다."
   ]
  },
  {
   "cell_type": "code",
   "execution_count": 42,
   "metadata": {},
   "outputs": [
    {
     "output_type": "execute_result",
     "data": {
      "text/plain": "  국적코드  성별    입국객수\n0  A01  남성  106320\n1  A01  여성  191436\n2  A31  남성     319\n3  A31  여성      42\n4  A18  남성  158912\n5  A18  여성  232943",
      "text/html": "<div>\n<style scoped>\n    .dataframe tbody tr th:only-of-type {\n        vertical-align: middle;\n    }\n\n    .dataframe tbody tr th {\n        vertical-align: top;\n    }\n\n    .dataframe thead th {\n        text-align: right;\n    }\n</style>\n<table border=\"1\" class=\"dataframe\">\n  <thead>\n    <tr style=\"text-align: right;\">\n      <th></th>\n      <th>국적코드</th>\n      <th>성별</th>\n      <th>입국객수</th>\n    </tr>\n  </thead>\n  <tbody>\n    <tr>\n      <th>0</th>\n      <td>A01</td>\n      <td>남성</td>\n      <td>106320</td>\n    </tr>\n    <tr>\n      <th>1</th>\n      <td>A01</td>\n      <td>여성</td>\n      <td>191436</td>\n    </tr>\n    <tr>\n      <th>2</th>\n      <td>A31</td>\n      <td>남성</td>\n      <td>319</td>\n    </tr>\n    <tr>\n      <th>3</th>\n      <td>A31</td>\n      <td>여성</td>\n      <td>42</td>\n    </tr>\n    <tr>\n      <th>4</th>\n      <td>A18</td>\n      <td>남성</td>\n      <td>158912</td>\n    </tr>\n    <tr>\n      <th>5</th>\n      <td>A18</td>\n      <td>여성</td>\n      <td>232943</td>\n    </tr>\n  </tbody>\n</table>\n</div>"
     },
     "metadata": {},
     "execution_count": 42
    }
   ],
   "source": [
    "sample_1 #3개의 칼럼"
   ]
  },
  {
   "cell_type": "code",
   "execution_count": 46,
   "metadata": {},
   "outputs": [
    {
     "output_type": "execute_result",
     "data": {
      "text/plain": "0    A01\n1    A01\n2    A31\n3    A31\n4    A18\n5    A18\nName: 국적코드, dtype: object"
     },
     "metadata": {},
     "execution_count": 46
    }
   ],
   "source": [
    "sample_1['국적코드'] #원하는 칼럼만 보고싶은 경우"
   ]
  },
  {
   "cell_type": "code",
   "execution_count": 86,
   "metadata": {},
   "outputs": [
    {
     "output_type": "execute_result",
     "data": {
      "text/plain": "  국적코드    입국객수\n0  A01  106320\n1  A01  191436\n2  A31     319\n3  A31      42\n4  A18  158912\n5  A18  232943",
      "text/html": "<div>\n<style scoped>\n    .dataframe tbody tr th:only-of-type {\n        vertical-align: middle;\n    }\n\n    .dataframe tbody tr th {\n        vertical-align: top;\n    }\n\n    .dataframe thead th {\n        text-align: right;\n    }\n</style>\n<table border=\"1\" class=\"dataframe\">\n  <thead>\n    <tr style=\"text-align: right;\">\n      <th></th>\n      <th>국적코드</th>\n      <th>입국객수</th>\n    </tr>\n  </thead>\n  <tbody>\n    <tr>\n      <th>0</th>\n      <td>A01</td>\n      <td>106320</td>\n    </tr>\n    <tr>\n      <th>1</th>\n      <td>A01</td>\n      <td>191436</td>\n    </tr>\n    <tr>\n      <th>2</th>\n      <td>A31</td>\n      <td>319</td>\n    </tr>\n    <tr>\n      <th>3</th>\n      <td>A31</td>\n      <td>42</td>\n    </tr>\n    <tr>\n      <th>4</th>\n      <td>A18</td>\n      <td>158912</td>\n    </tr>\n    <tr>\n      <th>5</th>\n      <td>A18</td>\n      <td>232943</td>\n    </tr>\n  </tbody>\n</table>\n</div>"
     },
     "metadata": {},
     "execution_count": 86
    }
   ],
   "source": [
    "sample_1[['국적코드', '입국객수']] #원하는 칼럼만 보고싶은 경우2 - 리스트로 칼럼을 묶어버림"
   ]
  },
  {
   "cell_type": "code",
   "execution_count": 87,
   "metadata": {},
   "outputs": [
    {
     "output_type": "execute_result",
     "data": {
      "text/plain": "  국적코드  성별    입국객수     기준년월\n0  A01  남성  106320  2020-08\n1  A01  여성  191436  2020-08\n2  A31  남성     319  2020-08\n3  A31  여성      42  2020-08\n4  A18  남성  158912  2020-08\n5  A18  여성  232943  2020-08",
      "text/html": "<div>\n<style scoped>\n    .dataframe tbody tr th:only-of-type {\n        vertical-align: middle;\n    }\n\n    .dataframe tbody tr th {\n        vertical-align: top;\n    }\n\n    .dataframe thead th {\n        text-align: right;\n    }\n</style>\n<table border=\"1\" class=\"dataframe\">\n  <thead>\n    <tr style=\"text-align: right;\">\n      <th></th>\n      <th>국적코드</th>\n      <th>성별</th>\n      <th>입국객수</th>\n      <th>기준년월</th>\n    </tr>\n  </thead>\n  <tbody>\n    <tr>\n      <th>0</th>\n      <td>A01</td>\n      <td>남성</td>\n      <td>106320</td>\n      <td>2020-08</td>\n    </tr>\n    <tr>\n      <th>1</th>\n      <td>A01</td>\n      <td>여성</td>\n      <td>191436</td>\n      <td>2020-08</td>\n    </tr>\n    <tr>\n      <th>2</th>\n      <td>A31</td>\n      <td>남성</td>\n      <td>319</td>\n      <td>2020-08</td>\n    </tr>\n    <tr>\n      <th>3</th>\n      <td>A31</td>\n      <td>여성</td>\n      <td>42</td>\n      <td>2020-08</td>\n    </tr>\n    <tr>\n      <th>4</th>\n      <td>A18</td>\n      <td>남성</td>\n      <td>158912</td>\n      <td>2020-08</td>\n    </tr>\n    <tr>\n      <th>5</th>\n      <td>A18</td>\n      <td>여성</td>\n      <td>232943</td>\n      <td>2020-08</td>\n    </tr>\n  </tbody>\n</table>\n</div>"
     },
     "metadata": {},
     "execution_count": 87
    }
   ],
   "source": [
    "sample_1['기준년월']='2020-08' #기준년월 칼럼 추가\n",
    "sample_1"
   ]
  },
  {
   "cell_type": "code",
   "execution_count": 88,
   "metadata": {},
   "outputs": [
    {
     "output_type": "execute_result",
     "data": {
      "text/plain": "0    False\n1     True\n2    False\n3     True\n4    False\n5     True\nName: 성별, dtype: bool"
     },
     "metadata": {},
     "execution_count": 88
    }
   ],
   "source": [
    "#데이터 선택 - 로우 기준\n",
    "#주로 특정 조건에 맞는 데이터를 필터링한 결과를 찾을 때 사용한다. \n",
    "condition=(sample_1['성별']=='여성')\n",
    "condition\n"
   ]
  },
  {
   "cell_type": "code",
   "execution_count": 89,
   "metadata": {},
   "outputs": [
    {
     "output_type": "execute_result",
     "data": {
      "text/plain": "  국적코드  성별    입국객수     기준년월\n1  A01  여성  191436  2020-08\n3  A31  여성      42  2020-08\n5  A18  여성  232943  2020-08",
      "text/html": "<div>\n<style scoped>\n    .dataframe tbody tr th:only-of-type {\n        vertical-align: middle;\n    }\n\n    .dataframe tbody tr th {\n        vertical-align: top;\n    }\n\n    .dataframe thead th {\n        text-align: right;\n    }\n</style>\n<table border=\"1\" class=\"dataframe\">\n  <thead>\n    <tr style=\"text-align: right;\">\n      <th></th>\n      <th>국적코드</th>\n      <th>성별</th>\n      <th>입국객수</th>\n      <th>기준년월</th>\n    </tr>\n  </thead>\n  <tbody>\n    <tr>\n      <th>1</th>\n      <td>A01</td>\n      <td>여성</td>\n      <td>191436</td>\n      <td>2020-08</td>\n    </tr>\n    <tr>\n      <th>3</th>\n      <td>A31</td>\n      <td>여성</td>\n      <td>42</td>\n      <td>2020-08</td>\n    </tr>\n    <tr>\n      <th>5</th>\n      <td>A18</td>\n      <td>여성</td>\n      <td>232943</td>\n      <td>2020-08</td>\n    </tr>\n  </tbody>\n</table>\n</div>"
     },
     "metadata": {},
     "execution_count": 89
    }
   ],
   "source": [
    "sample_1[condition] #여성만 출력"
   ]
  },
  {
   "cell_type": "code",
   "execution_count": 90,
   "metadata": {},
   "outputs": [
    {
     "output_type": "execute_result",
     "data": {
      "text/plain": "  국적코드  성별    입국객수     기준년월\n1  A01  여성  191436  2020-08\n4  A18  남성  158912  2020-08\n5  A18  여성  232943  2020-08",
      "text/html": "<div>\n<style scoped>\n    .dataframe tbody tr th:only-of-type {\n        vertical-align: middle;\n    }\n\n    .dataframe tbody tr th {\n        vertical-align: top;\n    }\n\n    .dataframe thead th {\n        text-align: right;\n    }\n</style>\n<table border=\"1\" class=\"dataframe\">\n  <thead>\n    <tr style=\"text-align: right;\">\n      <th></th>\n      <th>국적코드</th>\n      <th>성별</th>\n      <th>입국객수</th>\n      <th>기준년월</th>\n    </tr>\n  </thead>\n  <tbody>\n    <tr>\n      <th>1</th>\n      <td>A01</td>\n      <td>여성</td>\n      <td>191436</td>\n      <td>2020-08</td>\n    </tr>\n    <tr>\n      <th>4</th>\n      <td>A18</td>\n      <td>남성</td>\n      <td>158912</td>\n      <td>2020-08</td>\n    </tr>\n    <tr>\n      <th>5</th>\n      <td>A18</td>\n      <td>여성</td>\n      <td>232943</td>\n      <td>2020-08</td>\n    </tr>\n  </tbody>\n</table>\n</div>"
     },
     "metadata": {},
     "execution_count": 90
    }
   ],
   "source": [
    "condition1=(sample_1['입국객수']>=150000)\n",
    "sample_1[condition1]"
   ]
  },
  {
   "cell_type": "code",
   "execution_count": 91,
   "metadata": {},
   "outputs": [
    {
     "output_type": "execute_result",
     "data": {
      "text/plain": "0    False\n1     True\n2    False\n3    False\n4    False\n5     True\ndtype: bool"
     },
     "metadata": {},
     "execution_count": 91
    }
   ],
   "source": [
    "condition2=(sample_1['성별']=='여성')&(sample_1['입국객수']>=150000) #조건 두가지\n",
    "condition2"
   ]
  },
  {
   "cell_type": "code",
   "execution_count": 92,
   "metadata": {},
   "outputs": [
    {
     "output_type": "execute_result",
     "data": {
      "text/plain": "  국적코드  성별    입국객수     기준년월\n1  A01  여성  191436  2020-08\n5  A18  여성  232943  2020-08",
      "text/html": "<div>\n<style scoped>\n    .dataframe tbody tr th:only-of-type {\n        vertical-align: middle;\n    }\n\n    .dataframe tbody tr th {\n        vertical-align: top;\n    }\n\n    .dataframe thead th {\n        text-align: right;\n    }\n</style>\n<table border=\"1\" class=\"dataframe\">\n  <thead>\n    <tr style=\"text-align: right;\">\n      <th></th>\n      <th>국적코드</th>\n      <th>성별</th>\n      <th>입국객수</th>\n      <th>기준년월</th>\n    </tr>\n  </thead>\n  <tbody>\n    <tr>\n      <th>1</th>\n      <td>A01</td>\n      <td>여성</td>\n      <td>191436</td>\n      <td>2020-08</td>\n    </tr>\n    <tr>\n      <th>5</th>\n      <td>A18</td>\n      <td>여성</td>\n      <td>232943</td>\n      <td>2020-08</td>\n    </tr>\n  </tbody>\n</table>\n</div>"
     },
     "metadata": {},
     "execution_count": 92
    }
   ],
   "source": [
    "sample_1[condition2]"
   ]
  },
  {
   "cell_type": "code",
   "execution_count": 93,
   "metadata": {},
   "outputs": [
    {
     "output_type": "execute_result",
     "data": {
      "text/plain": "  국적코드  성별    입국객수     기준년월\n1  A01  여성  191436  2020-08\n5  A18  여성  232943  2020-08",
      "text/html": "<div>\n<style scoped>\n    .dataframe tbody tr th:only-of-type {\n        vertical-align: middle;\n    }\n\n    .dataframe tbody tr th {\n        vertical-align: top;\n    }\n\n    .dataframe thead th {\n        text-align: right;\n    }\n</style>\n<table border=\"1\" class=\"dataframe\">\n  <thead>\n    <tr style=\"text-align: right;\">\n      <th></th>\n      <th>국적코드</th>\n      <th>성별</th>\n      <th>입국객수</th>\n      <th>기준년월</th>\n    </tr>\n  </thead>\n  <tbody>\n    <tr>\n      <th>1</th>\n      <td>A01</td>\n      <td>여성</td>\n      <td>191436</td>\n      <td>2020-08</td>\n    </tr>\n    <tr>\n      <th>5</th>\n      <td>A18</td>\n      <td>여성</td>\n      <td>232943</td>\n      <td>2020-08</td>\n    </tr>\n  </tbody>\n</table>\n</div>"
     },
     "metadata": {},
     "execution_count": 93
    }
   ],
   "source": [
    "condition2=(sample_1['성별']=='여성')& \\\n",
    "    (sample_1['입국객수']>=150000) #역슬래시는 한 줄 띄울테니 두 줄을 한줄로 인식하라는 뜻. 위와 같은 표현이다.\n",
    "sample_1[condition2]"
   ]
  },
  {
   "cell_type": "code",
   "execution_count": 94,
   "metadata": {},
   "outputs": [
    {
     "output_type": "execute_result",
     "data": {
      "text/plain": "0     True\n1     True\n2    False\n3    False\n4     True\n5     True\nName: 국적코드, dtype: bool"
     },
     "metadata": {},
     "execution_count": 94
    }
   ],
   "source": [
    "condition3=(sample_1['국적코드'].isin(['A01', 'A18'])) #isin() 안에 찾고 싶은 값들을 리스트 형태로 넣으면 국적코드에서 리스트 안의 값에 해당할 경우 True를 반환\n",
    "condition3"
   ]
  },
  {
   "cell_type": "code",
   "execution_count": 95,
   "metadata": {},
   "outputs": [
    {
     "output_type": "execute_result",
     "data": {
      "text/plain": "  국적코드  성별    입국객수     기준년월\n0  A01  남성  106320  2020-08\n1  A01  여성  191436  2020-08\n4  A18  남성  158912  2020-08\n5  A18  여성  232943  2020-08",
      "text/html": "<div>\n<style scoped>\n    .dataframe tbody tr th:only-of-type {\n        vertical-align: middle;\n    }\n\n    .dataframe tbody tr th {\n        vertical-align: top;\n    }\n\n    .dataframe thead th {\n        text-align: right;\n    }\n</style>\n<table border=\"1\" class=\"dataframe\">\n  <thead>\n    <tr style=\"text-align: right;\">\n      <th></th>\n      <th>국적코드</th>\n      <th>성별</th>\n      <th>입국객수</th>\n      <th>기준년월</th>\n    </tr>\n  </thead>\n  <tbody>\n    <tr>\n      <th>0</th>\n      <td>A01</td>\n      <td>남성</td>\n      <td>106320</td>\n      <td>2020-08</td>\n    </tr>\n    <tr>\n      <th>1</th>\n      <td>A01</td>\n      <td>여성</td>\n      <td>191436</td>\n      <td>2020-08</td>\n    </tr>\n    <tr>\n      <th>4</th>\n      <td>A18</td>\n      <td>남성</td>\n      <td>158912</td>\n      <td>2020-08</td>\n    </tr>\n    <tr>\n      <th>5</th>\n      <td>A18</td>\n      <td>여성</td>\n      <td>232943</td>\n      <td>2020-08</td>\n    </tr>\n  </tbody>\n</table>\n</div>"
     },
     "metadata": {},
     "execution_count": 95
    }
   ],
   "source": [
    "sample_1[condition3]"
   ]
  },
  {
   "cell_type": "code",
   "execution_count": 96,
   "metadata": {},
   "outputs": [
    {
     "output_type": "execute_result",
     "data": {
      "text/plain": "  국적코드  성별  입국객수     기준년월\n2  A31  남성   319  2020-08\n3  A31  여성    42  2020-08",
      "text/html": "<div>\n<style scoped>\n    .dataframe tbody tr th:only-of-type {\n        vertical-align: middle;\n    }\n\n    .dataframe tbody tr th {\n        vertical-align: top;\n    }\n\n    .dataframe thead th {\n        text-align: right;\n    }\n</style>\n<table border=\"1\" class=\"dataframe\">\n  <thead>\n    <tr style=\"text-align: right;\">\n      <th></th>\n      <th>국적코드</th>\n      <th>성별</th>\n      <th>입국객수</th>\n      <th>기준년월</th>\n    </tr>\n  </thead>\n  <tbody>\n    <tr>\n      <th>2</th>\n      <td>A31</td>\n      <td>남성</td>\n      <td>319</td>\n      <td>2020-08</td>\n    </tr>\n    <tr>\n      <th>3</th>\n      <td>A31</td>\n      <td>여성</td>\n      <td>42</td>\n      <td>2020-08</td>\n    </tr>\n  </tbody>\n</table>\n</div>"
     },
     "metadata": {},
     "execution_count": 96
    }
   ],
   "source": [
    "sample_1[condition3==False] #위 경우를 제외한 것을 출력하고 싶을 때"
   ]
  },
  {
   "cell_type": "code",
   "execution_count": 97,
   "metadata": {},
   "outputs": [
    {
     "output_type": "execute_result",
     "data": {
      "text/plain": "  국적코드  성별    입국객수     기준년월\n0  A01  남성  106320  2020-08\n1  A01  여성  191436  2020-08\n2  A31  남성     319  2020-08\n3  A31  여성      42  2020-08\n4  A18  남성  158912  2020-08\n5  A18  여성  232943  2020-08",
      "text/html": "<div>\n<style scoped>\n    .dataframe tbody tr th:only-of-type {\n        vertical-align: middle;\n    }\n\n    .dataframe tbody tr th {\n        vertical-align: top;\n    }\n\n    .dataframe thead th {\n        text-align: right;\n    }\n</style>\n<table border=\"1\" class=\"dataframe\">\n  <thead>\n    <tr style=\"text-align: right;\">\n      <th></th>\n      <th>국적코드</th>\n      <th>성별</th>\n      <th>입국객수</th>\n      <th>기준년월</th>\n    </tr>\n  </thead>\n  <tbody>\n    <tr>\n      <th>0</th>\n      <td>A01</td>\n      <td>남성</td>\n      <td>106320</td>\n      <td>2020-08</td>\n    </tr>\n    <tr>\n      <th>1</th>\n      <td>A01</td>\n      <td>여성</td>\n      <td>191436</td>\n      <td>2020-08</td>\n    </tr>\n    <tr>\n      <th>2</th>\n      <td>A31</td>\n      <td>남성</td>\n      <td>319</td>\n      <td>2020-08</td>\n    </tr>\n    <tr>\n      <th>3</th>\n      <td>A31</td>\n      <td>여성</td>\n      <td>42</td>\n      <td>2020-08</td>\n    </tr>\n    <tr>\n      <th>4</th>\n      <td>A18</td>\n      <td>남성</td>\n      <td>158912</td>\n      <td>2020-08</td>\n    </tr>\n    <tr>\n      <th>5</th>\n      <td>A18</td>\n      <td>여성</td>\n      <td>232943</td>\n      <td>2020-08</td>\n    </tr>\n  </tbody>\n</table>\n</div>"
     },
     "metadata": {},
     "execution_count": 97
    }
   ],
   "source": [
    "sample_1"
   ]
  },
  {
   "cell_type": "code",
   "execution_count": 98,
   "metadata": {},
   "outputs": [
    {
     "output_type": "execute_result",
     "data": {
      "text/plain": "  국적코드     국적명\n0  A01      일본\n1  A02      대만\n2  A03      홍콩\n3  A18      중국\n4  A19      이란\n5  A22  우즈베키스탄\n6  A23   카자흐스탄\n7  A99  아시아 기타",
      "text/html": "<div>\n<style scoped>\n    .dataframe tbody tr th:only-of-type {\n        vertical-align: middle;\n    }\n\n    .dataframe tbody tr th {\n        vertical-align: top;\n    }\n\n    .dataframe thead th {\n        text-align: right;\n    }\n</style>\n<table border=\"1\" class=\"dataframe\">\n  <thead>\n    <tr style=\"text-align: right;\">\n      <th></th>\n      <th>국적코드</th>\n      <th>국적명</th>\n    </tr>\n  </thead>\n  <tbody>\n    <tr>\n      <th>0</th>\n      <td>A01</td>\n      <td>일본</td>\n    </tr>\n    <tr>\n      <th>1</th>\n      <td>A02</td>\n      <td>대만</td>\n    </tr>\n    <tr>\n      <th>2</th>\n      <td>A03</td>\n      <td>홍콩</td>\n    </tr>\n    <tr>\n      <th>3</th>\n      <td>A18</td>\n      <td>중국</td>\n    </tr>\n    <tr>\n      <th>4</th>\n      <td>A19</td>\n      <td>이란</td>\n    </tr>\n    <tr>\n      <th>5</th>\n      <td>A22</td>\n      <td>우즈베키스탄</td>\n    </tr>\n    <tr>\n      <th>6</th>\n      <td>A23</td>\n      <td>카자흐스탄</td>\n    </tr>\n    <tr>\n      <th>7</th>\n      <td>A99</td>\n      <td>아시아 기타</td>\n    </tr>\n  </tbody>\n</table>\n</div>"
     },
     "metadata": {},
     "execution_count": 98
    }
   ],
   "source": [
    "code_master=pd.read_excel('datasalon-master\\\\2_Start_DataAnalysis\\\\files\\\\sample_codemaster.xlsx')\n",
    "code_master\n"
   ]
  },
  {
   "cell_type": "code",
   "execution_count": 99,
   "metadata": {},
   "outputs": [
    {
     "output_type": "execute_result",
     "data": {
      "text/plain": "  국적코드  성별    입국객수     기준년월  국적명\n0  A01  남성  106320  2020-08   일본\n1  A01  여성  191436  2020-08   일본\n2  A31  남성     319  2020-08  NaN\n3  A31  여성      42  2020-08  NaN\n4  A18  남성  158912  2020-08   중국\n5  A18  여성  232943  2020-08   중국",
      "text/html": "<div>\n<style scoped>\n    .dataframe tbody tr th:only-of-type {\n        vertical-align: middle;\n    }\n\n    .dataframe tbody tr th {\n        vertical-align: top;\n    }\n\n    .dataframe thead th {\n        text-align: right;\n    }\n</style>\n<table border=\"1\" class=\"dataframe\">\n  <thead>\n    <tr style=\"text-align: right;\">\n      <th></th>\n      <th>국적코드</th>\n      <th>성별</th>\n      <th>입국객수</th>\n      <th>기준년월</th>\n      <th>국적명</th>\n    </tr>\n  </thead>\n  <tbody>\n    <tr>\n      <th>0</th>\n      <td>A01</td>\n      <td>남성</td>\n      <td>106320</td>\n      <td>2020-08</td>\n      <td>일본</td>\n    </tr>\n    <tr>\n      <th>1</th>\n      <td>A01</td>\n      <td>여성</td>\n      <td>191436</td>\n      <td>2020-08</td>\n      <td>일본</td>\n    </tr>\n    <tr>\n      <th>2</th>\n      <td>A31</td>\n      <td>남성</td>\n      <td>319</td>\n      <td>2020-08</td>\n      <td>NaN</td>\n    </tr>\n    <tr>\n      <th>3</th>\n      <td>A31</td>\n      <td>여성</td>\n      <td>42</td>\n      <td>2020-08</td>\n      <td>NaN</td>\n    </tr>\n    <tr>\n      <th>4</th>\n      <td>A18</td>\n      <td>남성</td>\n      <td>158912</td>\n      <td>2020-08</td>\n      <td>중국</td>\n    </tr>\n    <tr>\n      <th>5</th>\n      <td>A18</td>\n      <td>여성</td>\n      <td>232943</td>\n      <td>2020-08</td>\n      <td>중국</td>\n    </tr>\n  </tbody>\n</table>\n</div>"
     },
     "metadata": {},
     "execution_count": 99
    }
   ],
   "source": [
    "sample_1_code=pd.merge(left=sample_1, #merge는 자료를 가로로 합친다.\n",
    "                        right=code_master, # 오른쪽은 code_master\n",
    "                        how='left', # 왼쪽 테이블을 기준으로 두 테이블을 결합\n",
    "                        left_on='국적코드', # 왼쪽 테이블의 기준 칼럼은 국적코드\n",
    "                        right_on='국적코드') # 오른쪽 테이블의 기준 칼럼은 국적코드\n",
    "sample_1_code # 국적코드가 A31인 경우 국적명이 NaN으로 나온다. code_master에는 해당하는 자료가 없기 때문."
   ]
  },
  {
   "cell_type": "code",
   "execution_count": 100,
   "metadata": {},
   "outputs": [
    {
     "output_type": "execute_result",
     "data": {
      "text/plain": "  국적코드  성별    입국객수     기준년월 국적명\n0  A01  남성  106320  2020-08  일본\n1  A01  여성  191436  2020-08  일본\n2  A18  남성  158912  2020-08  중국\n3  A18  여성  232943  2020-08  중국",
      "text/html": "<div>\n<style scoped>\n    .dataframe tbody tr th:only-of-type {\n        vertical-align: middle;\n    }\n\n    .dataframe tbody tr th {\n        vertical-align: top;\n    }\n\n    .dataframe thead th {\n        text-align: right;\n    }\n</style>\n<table border=\"1\" class=\"dataframe\">\n  <thead>\n    <tr style=\"text-align: right;\">\n      <th></th>\n      <th>국적코드</th>\n      <th>성별</th>\n      <th>입국객수</th>\n      <th>기준년월</th>\n      <th>국적명</th>\n    </tr>\n  </thead>\n  <tbody>\n    <tr>\n      <th>0</th>\n      <td>A01</td>\n      <td>남성</td>\n      <td>106320</td>\n      <td>2020-08</td>\n      <td>일본</td>\n    </tr>\n    <tr>\n      <th>1</th>\n      <td>A01</td>\n      <td>여성</td>\n      <td>191436</td>\n      <td>2020-08</td>\n      <td>일본</td>\n    </tr>\n    <tr>\n      <th>2</th>\n      <td>A18</td>\n      <td>남성</td>\n      <td>158912</td>\n      <td>2020-08</td>\n      <td>중국</td>\n    </tr>\n    <tr>\n      <th>3</th>\n      <td>A18</td>\n      <td>여성</td>\n      <td>232943</td>\n      <td>2020-08</td>\n      <td>중국</td>\n    </tr>\n  </tbody>\n</table>\n</div>"
     },
     "metadata": {},
     "execution_count": 100
    }
   ],
   "source": [
    "sample_1_code=pd.merge(left=sample_1,\n",
    "                        right=code_master,\n",
    "                        how='inner', # 두 테이블의 기준 칼럼이 일치하는 경우에만 데이터 통합\n",
    "                        left_on='국적코드', \n",
    "                        right_on='국적코드') \n",
    "sample_1_code "
   ]
  },
  {
   "cell_type": "code",
   "execution_count": 101,
   "metadata": {},
   "outputs": [
    {
     "output_type": "execute_result",
     "data": {
      "text/plain": "  국적코드  성별    입국객수     기준년월 국적명\n0  A01  남성   92556  2019-12  일본\n1  A01  여성  163737  2019-12  일본\n2  A18  남성  155540  2019-12  중국\n3  A18  여성  249023  2019-12  중국",
      "text/html": "<div>\n<style scoped>\n    .dataframe tbody tr th:only-of-type {\n        vertical-align: middle;\n    }\n\n    .dataframe tbody tr th {\n        vertical-align: top;\n    }\n\n    .dataframe thead th {\n        text-align: right;\n    }\n</style>\n<table border=\"1\" class=\"dataframe\">\n  <thead>\n    <tr style=\"text-align: right;\">\n      <th></th>\n      <th>국적코드</th>\n      <th>성별</th>\n      <th>입국객수</th>\n      <th>기준년월</th>\n      <th>국적명</th>\n    </tr>\n  </thead>\n  <tbody>\n    <tr>\n      <th>0</th>\n      <td>A01</td>\n      <td>남성</td>\n      <td>92556</td>\n      <td>2019-12</td>\n      <td>일본</td>\n    </tr>\n    <tr>\n      <th>1</th>\n      <td>A01</td>\n      <td>여성</td>\n      <td>163737</td>\n      <td>2019-12</td>\n      <td>일본</td>\n    </tr>\n    <tr>\n      <th>2</th>\n      <td>A18</td>\n      <td>남성</td>\n      <td>155540</td>\n      <td>2019-12</td>\n      <td>중국</td>\n    </tr>\n    <tr>\n      <th>3</th>\n      <td>A18</td>\n      <td>여성</td>\n      <td>249023</td>\n      <td>2019-12</td>\n      <td>중국</td>\n    </tr>\n  </tbody>\n</table>\n</div>"
     },
     "metadata": {},
     "execution_count": 101
    }
   ],
   "source": [
    "#데이터 아래로 통합(ex.월별로 관리)\n",
    "sample_2=pd.read_excel('datasalon-master\\\\2_Start_DataAnalysis\\\\files\\\\sample_2.xlsx', \n",
    "                        header=1, \n",
    "                        skipfooter=2, \n",
    "                        usecols='A:C')\n",
    "sample_2['기준년월']='2019-12'\n",
    "sample_2_code=pd.merge(left=sample_2, \n",
    "                        right=code_master, \n",
    "                        how='left', \n",
    "                        left_on='국적코드',\n",
    "                        right_on='국적코드')\n",
    "sample_2_code"
   ]
  },
  {
   "cell_type": "code",
   "execution_count": 102,
   "metadata": {},
   "outputs": [
    {
     "output_type": "execute_result",
     "data": {
      "text/plain": "  국적코드  성별    입국객수     기준년월 국적명\n0  A01  남성  106320  2020-08  일본\n1  A01  여성  191436  2020-08  일본\n2  A18  남성  158912  2020-08  중국\n3  A18  여성  232943  2020-08  중국\n0  A01  남성   92556  2019-12  일본\n1  A01  여성  163737  2019-12  일본\n2  A18  남성  155540  2019-12  중국\n3  A18  여성  249023  2019-12  중국",
      "text/html": "<div>\n<style scoped>\n    .dataframe tbody tr th:only-of-type {\n        vertical-align: middle;\n    }\n\n    .dataframe tbody tr th {\n        vertical-align: top;\n    }\n\n    .dataframe thead th {\n        text-align: right;\n    }\n</style>\n<table border=\"1\" class=\"dataframe\">\n  <thead>\n    <tr style=\"text-align: right;\">\n      <th></th>\n      <th>국적코드</th>\n      <th>성별</th>\n      <th>입국객수</th>\n      <th>기준년월</th>\n      <th>국적명</th>\n    </tr>\n  </thead>\n  <tbody>\n    <tr>\n      <th>0</th>\n      <td>A01</td>\n      <td>남성</td>\n      <td>106320</td>\n      <td>2020-08</td>\n      <td>일본</td>\n    </tr>\n    <tr>\n      <th>1</th>\n      <td>A01</td>\n      <td>여성</td>\n      <td>191436</td>\n      <td>2020-08</td>\n      <td>일본</td>\n    </tr>\n    <tr>\n      <th>2</th>\n      <td>A18</td>\n      <td>남성</td>\n      <td>158912</td>\n      <td>2020-08</td>\n      <td>중국</td>\n    </tr>\n    <tr>\n      <th>3</th>\n      <td>A18</td>\n      <td>여성</td>\n      <td>232943</td>\n      <td>2020-08</td>\n      <td>중국</td>\n    </tr>\n    <tr>\n      <th>0</th>\n      <td>A01</td>\n      <td>남성</td>\n      <td>92556</td>\n      <td>2019-12</td>\n      <td>일본</td>\n    </tr>\n    <tr>\n      <th>1</th>\n      <td>A01</td>\n      <td>여성</td>\n      <td>163737</td>\n      <td>2019-12</td>\n      <td>일본</td>\n    </tr>\n    <tr>\n      <th>2</th>\n      <td>A18</td>\n      <td>남성</td>\n      <td>155540</td>\n      <td>2019-12</td>\n      <td>중국</td>\n    </tr>\n    <tr>\n      <th>3</th>\n      <td>A18</td>\n      <td>여성</td>\n      <td>249023</td>\n      <td>2019-12</td>\n      <td>중국</td>\n    </tr>\n  </tbody>\n</table>\n</div>"
     },
     "metadata": {},
     "execution_count": 102
    }
   ],
   "source": [
    "#ignore_index=True 를 입력하지 않으면 원래 데이터에서의 인덱스 값으로 합쳐짐\n",
    "sample=sample_1_code.append(sample_2_code) # append()로 아래로 통합. \n",
    "sample"
   ]
  },
  {
   "cell_type": "code",
   "execution_count": 103,
   "metadata": {},
   "outputs": [
    {
     "output_type": "execute_result",
     "data": {
      "text/plain": "  국적코드  성별    입국객수     기준년월 국적명\n0  A01  남성  106320  2020-08  일본\n1  A01  여성  191436  2020-08  일본\n2  A18  남성  158912  2020-08  중국\n3  A18  여성  232943  2020-08  중국\n4  A01  남성   92556  2019-12  일본\n5  A01  여성  163737  2019-12  일본\n6  A18  남성  155540  2019-12  중국\n7  A18  여성  249023  2019-12  중국",
      "text/html": "<div>\n<style scoped>\n    .dataframe tbody tr th:only-of-type {\n        vertical-align: middle;\n    }\n\n    .dataframe tbody tr th {\n        vertical-align: top;\n    }\n\n    .dataframe thead th {\n        text-align: right;\n    }\n</style>\n<table border=\"1\" class=\"dataframe\">\n  <thead>\n    <tr style=\"text-align: right;\">\n      <th></th>\n      <th>국적코드</th>\n      <th>성별</th>\n      <th>입국객수</th>\n      <th>기준년월</th>\n      <th>국적명</th>\n    </tr>\n  </thead>\n  <tbody>\n    <tr>\n      <th>0</th>\n      <td>A01</td>\n      <td>남성</td>\n      <td>106320</td>\n      <td>2020-08</td>\n      <td>일본</td>\n    </tr>\n    <tr>\n      <th>1</th>\n      <td>A01</td>\n      <td>여성</td>\n      <td>191436</td>\n      <td>2020-08</td>\n      <td>일본</td>\n    </tr>\n    <tr>\n      <th>2</th>\n      <td>A18</td>\n      <td>남성</td>\n      <td>158912</td>\n      <td>2020-08</td>\n      <td>중국</td>\n    </tr>\n    <tr>\n      <th>3</th>\n      <td>A18</td>\n      <td>여성</td>\n      <td>232943</td>\n      <td>2020-08</td>\n      <td>중국</td>\n    </tr>\n    <tr>\n      <th>4</th>\n      <td>A01</td>\n      <td>남성</td>\n      <td>92556</td>\n      <td>2019-12</td>\n      <td>일본</td>\n    </tr>\n    <tr>\n      <th>5</th>\n      <td>A01</td>\n      <td>여성</td>\n      <td>163737</td>\n      <td>2019-12</td>\n      <td>일본</td>\n    </tr>\n    <tr>\n      <th>6</th>\n      <td>A18</td>\n      <td>남성</td>\n      <td>155540</td>\n      <td>2019-12</td>\n      <td>중국</td>\n    </tr>\n    <tr>\n      <th>7</th>\n      <td>A18</td>\n      <td>여성</td>\n      <td>249023</td>\n      <td>2019-12</td>\n      <td>중국</td>\n    </tr>\n  </tbody>\n</table>\n</div>"
     },
     "metadata": {},
     "execution_count": 103
    }
   ],
   "source": [
    "# sample_1_code와 sample_2_code의 칼럼 순서가 동일하다면 두 데이터를 아래로 통합할 수 있다!!!\n",
    "sample=sample_1_code.append(sample_2_code, ignore_index=True) # append()로 아래로 통합. \n",
    "sample"
   ]
  },
  {
   "cell_type": "code",
   "execution_count": 104,
   "metadata": {},
   "outputs": [
    {
     "output_type": "execute_result",
     "data": {
      "text/plain": "  국적코드  성별    입국객수     기준년월 국적명\n0  A01  남성  106320  2020-08  일본\n1  A01  여성  191436  2020-08  일본\n2  A18  남성  158912  2020-08  중국\n3  A18  여성  232943  2020-08  중국\n4  A01  남성   92556  2019-12  일본\n5  A01  여성  163737  2019-12  일본\n6  A18  남성  155540  2019-12  중국\n7  A18  여성  249023  2019-12  중국",
      "text/html": "<div>\n<style scoped>\n    .dataframe tbody tr th:only-of-type {\n        vertical-align: middle;\n    }\n\n    .dataframe tbody tr th {\n        vertical-align: top;\n    }\n\n    .dataframe thead th {\n        text-align: right;\n    }\n</style>\n<table border=\"1\" class=\"dataframe\">\n  <thead>\n    <tr style=\"text-align: right;\">\n      <th></th>\n      <th>국적코드</th>\n      <th>성별</th>\n      <th>입국객수</th>\n      <th>기준년월</th>\n      <th>국적명</th>\n    </tr>\n  </thead>\n  <tbody>\n    <tr>\n      <th>0</th>\n      <td>A01</td>\n      <td>남성</td>\n      <td>106320</td>\n      <td>2020-08</td>\n      <td>일본</td>\n    </tr>\n    <tr>\n      <th>1</th>\n      <td>A01</td>\n      <td>여성</td>\n      <td>191436</td>\n      <td>2020-08</td>\n      <td>일본</td>\n    </tr>\n    <tr>\n      <th>2</th>\n      <td>A18</td>\n      <td>남성</td>\n      <td>158912</td>\n      <td>2020-08</td>\n      <td>중국</td>\n    </tr>\n    <tr>\n      <th>3</th>\n      <td>A18</td>\n      <td>여성</td>\n      <td>232943</td>\n      <td>2020-08</td>\n      <td>중국</td>\n    </tr>\n    <tr>\n      <th>4</th>\n      <td>A01</td>\n      <td>남성</td>\n      <td>92556</td>\n      <td>2019-12</td>\n      <td>일본</td>\n    </tr>\n    <tr>\n      <th>5</th>\n      <td>A01</td>\n      <td>여성</td>\n      <td>163737</td>\n      <td>2019-12</td>\n      <td>일본</td>\n    </tr>\n    <tr>\n      <th>6</th>\n      <td>A18</td>\n      <td>남성</td>\n      <td>155540</td>\n      <td>2019-12</td>\n      <td>중국</td>\n    </tr>\n    <tr>\n      <th>7</th>\n      <td>A18</td>\n      <td>여성</td>\n      <td>249023</td>\n      <td>2019-12</td>\n      <td>중국</td>\n    </tr>\n  </tbody>\n</table>\n</div>"
     },
     "metadata": {},
     "execution_count": 104
    }
   ],
   "source": [
    "# 데이터 저장\n",
    "sample"
   ]
  },
  {
   "cell_type": "code",
   "execution_count": 108,
   "metadata": {},
   "outputs": [],
   "source": [
    "#위와 같이 만들어진 데이터를 엑셀 파일로 저장해 두면 다음에는 위와 같은 작업을 다시 하지 않아도 된다. \n",
    "#pandas에서 데이터를 엑셀 파일로 저장하기\n",
    "sample.to_excel('./PracSample.xlsx')"
   ]
  },
  {
   "cell_type": "code",
   "execution_count": null,
   "metadata": {},
   "outputs": [],
   "source": []
  }
 ]
}